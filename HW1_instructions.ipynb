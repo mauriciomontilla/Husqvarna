{
 "cells": [
  {
   "cell_type": "markdown",
   "metadata": {},
   "source": [
    "# HW1: EPIDEMIC MODELS AND DATA PRE-PROCESSING"
   ]
  },
  {
   "cell_type": "markdown",
   "metadata": {},
   "source": [
    "This assignment is divided in two parts.\n",
    "\n",
    "\n",
    "PART 1:\n",
    "\n",
    "\n",
    "In this part you will build upon the SIR model that we saw in Lab1 and extend it to include the class for the Exposed population. You will define the system of ODEs, plotting functions, and solve the problem given some parameters. You will learn how to use the scipy library to solve differential equations and do some baseline scientific computing! The task here is to see how by using python we can model a disease's spread in a city or population, do data analysis and visualize our results.  The advanced task of this part introduces a lockdown policy in the population.\n",
    "\n",
    "\n",
    "PART 2:\n",
    "\n",
    "In this part, given a dataset, you will go through one of the most important steps in the data mining process. Data pre-processing! You will explore the dataset, plot the variables, handle the missing values, standardize the dataset and perform dimensionality reduction. The learning outcome of this part is to know how one can pre-process a real-world dataset and prepare for a supervised or an unsupervised learning task.\n"
   ]
  },
  {
   "cell_type": "markdown",
   "metadata": {},
   "source": [
    "##  Grading: \n",
    "\n",
    "1. Basic tasks: points  2\n",
    "2. Advanced tasks: points 2\n",
    "3. Total points: 4\n",
    "\n"
   ]
  },
  {
   "cell_type": "markdown",
   "metadata": {},
   "source": [
    "#### Student information\n",
    "Please provide your information for automatic grading."
   ]
  },
  {
   "cell_type": "code",
   "execution_count": 12,
   "metadata": {},
   "outputs": [],
   "source": [
    "STUD_SUID = 'osmo3708'\n",
    "STUD_NAME = 'Mauricio Montilla'\n",
    "STUD_EMAIL = 'osmo3708@stud.dsv.su.se'"
   ]
  },
  {
   "cell_type": "markdown",
   "metadata": {},
   "source": [
    "## OUTLINE: \n",
    "\n",
    "PART 1:\n",
    "\n",
    "1. Basic Task: SEIR, total points: 1\n",
    "\n",
    "\n",
    "    a. sytem of ODES, points 0.3 \n",
    "    b. Parameter definition and problem solving, points 0.4 \n",
    "    c. plot function, points 0.3\n",
    "2. Advanced Task: SEIR with lockdown policy, total points: 1\n",
    "\n",
    "PART 2: Data pre-processing, plotting and dimensionality reduction\n",
    "\n",
    "(Basic Tasks: 1-5)\n",
    "\n",
    "(Advanced Task: 6)\n",
    "\n",
    "1. Reading the file, points: 0.1\n",
    "2. Missing Values, points: 0.3\n",
    "3. Plotting, total points: 0.2\n",
    "\n",
    "\n",
    "    a. plot_a, points: 0.05\n",
    "    b. plot_b, points: 0.05\n",
    "    c. plot_c, points: 0.05\n",
    "    d. plot_d, points: 0.05\n",
    "\n",
    "4. Standardization, points: 0.2\n",
    "5. Dimensionality reduction, total points: 0.2\n",
    "\n",
    "\n",
    "    a. pca plotting, points: 0.15\n",
    "    b. pca heatmap, points: 0.05\n",
    "\n",
    "6. Advanced task: Multi-Dimensional Scaling(MDS) , total points: 1"
   ]
  },
  {
   "cell_type": "markdown",
   "metadata": {},
   "source": [
    "### NOTE: Each function you make will be graded, so it is important to strictly follow input and output instructions stated in the skeleton code.\n"
   ]
  },
  {
   "cell_type": "code",
   "execution_count": 13,
   "metadata": {},
   "outputs": [],
   "source": [
    "#these are the libraries that you will need throughout the assignment\n",
    "from scipy.integrate import odeint\n",
    "import numpy as np \n",
    "import pandas as pd\n",
    "import matplotlib.pyplot as plt \n",
    "import seaborn as sns\n",
    "%matplotlib inline\n",
    "\n",
    "from sklearn.preprocessing import StandardScaler\n",
    "from sklearn.decomposition import PCA\n",
    "from sklearn.manifold import MDS\n",
    "from HW1_helper import *"
   ]
  },
  {
   "cell_type": "code",
   "execution_count": 14,
   "metadata": {},
   "outputs": [
    {
     "data": {
      "text/plain": [
       "'0.22.2.post1'"
      ]
     },
     "execution_count": 14,
     "metadata": {},
     "output_type": "execute_result"
    }
   ],
   "source": [
    "import sklearn\n",
    "sklearn.__version__"
   ]
  },
  {
   "cell_type": "markdown",
   "metadata": {},
   "source": [
    "## PART 1: EPIDEMIC MODELS"
   ]
  },
  {
   "cell_type": "markdown",
   "metadata": {},
   "source": [
    "## 1. Basic task: SEIR \n"
   ]
  },
  {
   "cell_type": "markdown",
   "metadata": {},
   "source": [
    "Note: This is a similart version to the SEIR model found in wiki, without the vital dynamics: https://en.wikipedia.org/wiki/Compartmental_models_in_epidemiology#The_SEIR_model. For this homework we removed the vital dynamics from the model (reference: https://www.idmod.org/docs/emod/hiv/model-seir.html#seir-without-vital-dynamics ) to make it simpler (no births, no deaths in the population) \n",
    "\n",
    "\n",
    "Many infectious diseases have an incubation period before being infectious during which the host cannot yet spread the disease.\n",
    "This delay between the acquisition of infection and the infectious state can be incorporated within the SIR model by adding a latent/exposed population, E, and letting infected (but not yet infectious) individuals move from S to E and from E to I.\n",
    "\n",
    "\n",
    "$\\frac{dS}{dt} = -\\beta*I*\\frac{S}{N}$\n",
    "\n",
    "$\\frac{dE}{dt} = \\beta*I*\\frac{S}{N} - \\delta*E$\n",
    "\n",
    "$\\frac{dI}{dt} = \\delta*E - \\gamma*I$\n",
    "\n",
    "$\\frac{dR}{dt} = \\gamma*I$\n",
    "\n",
    "\n",
    "The infectious rate, $\\beta$, controls the rate of spread which represents the probability of transmitting a disease between a susceptible and an infectious individual. The incubation rate, $\\delta$, is the rate of latent individuals becoming infectious (average duration of incubation is $\\frac{1}{\\delta}$). Recovery rate, $\\gamma$ = 1/D, is determined by the average duration, D, of infection. "
   ]
  },
  {
   "cell_type": "markdown",
   "metadata": {},
   "source": [
    "### a. System of ODEs\n"
   ]
  },
  {
   "cell_type": "markdown",
   "metadata": {},
   "source": [
    "In the function named deriv_seir:\n",
    "- implement the above system of ODEs for SEIR, in python"
   ]
  },
  {
   "cell_type": "code",
   "execution_count": 86,
   "metadata": {},
   "outputs": [],
   "source": [
    "def deriv_seir(y, t, N, beta, gamma, delta):\n",
    "    \"\"\"\n",
    "    Input: y, time grid, N: total population, beta: infectious rate, gamma: recovery rate, delta: incubation period \n",
    "    Output: dSdt, dEdt, dIdt, dRdt\n",
    "    Transform the above system of ODEs in python\n",
    "    \"\"\"\n",
    "    # Initial conditions vector\n",
    "    S, E, I, R = y\n",
    "    \n",
    "    #Write your code here\n",
    "    dSdt = -beta * I * (S / N)                 # Change in S population over time\n",
    "    dEdt = (beta * I * (S / N)) - (delta * E)  # Change in E population over time\n",
    "    dIdt = (delta * E) - (gamma * I)           # Change in I population over time\n",
    "    dRdt = gamma * I                           # Change in R population over time\n",
    "\n",
    "    return dSdt, dEdt, dIdt, dRdt"
   ]
  },
  {
   "cell_type": "markdown",
   "metadata": {},
   "source": [
    "### b. Parameter definition and solving the model"
   ]
  },
  {
   "cell_type": "markdown",
   "metadata": {},
   "source": [
    "In the function named model_seir, given the model parameters, define:\n",
    "- the initial conditions (one exposed, rest susceptible), \n",
    "- the grid of time-points in days (150 days), \n",
    "- the initial conditions vector and \n",
    "- finally solve the system of ODEs. "
   ]
  },
  {
   "cell_type": "code",
   "execution_count": 87,
   "metadata": {},
   "outputs": [],
   "source": [
    "def model_seir(N, beta, gamma, delta):\n",
    "    \"\"\"\n",
    "    Input: N:total population, beta: infectious rate, gamma: recovery rate, delta: incubation period \n",
    "    Output: time, S, E, I, R\n",
    "\n",
    "    step1: define the initial conditions: one exposed, rest susceptible\n",
    "    step2: define the grid of time points in days (use 150 days)\n",
    "    step3: define the initital conditions vector y0\n",
    "    step3: solve the system of ODEs using odeint from scipy\n",
    "    \"\"\"\n",
    "    #Write your code here\n",
    "    E = 1                               # Exposed population at the beginning\n",
    "    y0 = (N - E), E, 0, 0               # Initial conditions, including the E population\n",
    "    t = np.linspace(0, 149, 150)        # Grid of time points (in days)\n",
    "    \n",
    "    integral = odeint(\n",
    "        deriv_seir, y0, t, args=(N, beta,  gamma, delta)\n",
    "    )                                   # Solve differential equation\n",
    "\n",
    "    S, E, I, R = integral.T\n",
    "\n",
    "    return t, S, E, I, R"
   ]
  },
  {
   "cell_type": "code",
   "execution_count": 88,
   "metadata": {},
   "outputs": [],
   "source": [
    "#These are the model parameters, do not change them.\n",
    "N = 1000\n",
    "beta = 1.0\n",
    "D = 10\n",
    "gamma = 1.0/D\n",
    "delta = 1.0/5.0"
   ]
  },
  {
   "cell_type": "code",
   "execution_count": 89,
   "metadata": {},
   "outputs": [],
   "source": [
    "#calling the model_seir function that you defined above and storing the results in t, S, E, I, R\n",
    "t, S, E, I, R = model_seir(N, beta, gamma, delta)"
   ]
  },
  {
   "cell_type": "code",
   "execution_count": 90,
   "metadata": {},
   "outputs": [
    {
     "data": {
      "text/plain": [
       "array([999.  , 998.91, 998.65, 998.23, 997.62, 996.78, 995.63, 994.08,\n",
       "       991.99, 989.17])"
      ]
     },
     "execution_count": 90,
     "metadata": {},
     "output_type": "execute_result"
    }
   ],
   "source": [
    "np.set_printoptions(precision=2)\n",
    "S[:10]"
   ]
  },
  {
   "cell_type": "code",
   "execution_count": 20,
   "metadata": {},
   "outputs": [
    {
     "name": "stdout",
     "output_type": "stream",
     "text": [
      "SEIR model test\n",
      "The time grid is correct\n",
      "The susceptible population array is correct\n",
      "The exposed population array is correct\n",
      "The infected population array is correct\n",
      "The recovered population array is correct\n"
     ]
    }
   ],
   "source": [
    "#If you complete the method, you can run the following line to check whether your functions are correct or not. \n",
    "check_model_seir(t,S,E,I,R)"
   ]
  },
  {
   "cell_type": "markdown",
   "metadata": {},
   "source": [
    "### c. Plot function\n"
   ]
  },
  {
   "cell_type": "markdown",
   "metadata": {},
   "source": [
    "In the function called plot_seir(): \n",
    "- plot the S, E, I, R compartments. \n",
    "- include a dashed line for the total number of the population (S+E+I+R).\n",
    "- include labels that depict which line is for which population (using legend)\n",
    "\n",
    "\n",
    "Specifically the plot should contain: \n",
    "\n",
    "- On the x-axis: the population\n",
    "\n",
    "- On the y-axis: Time in days\n",
    " \n",
    "\n",
    "In the function below you will notice that in the list of parameters is included (...., L=None). The purpose of this parameter is to add a title regarding the lockdown day that you will see in the advanced task. For this part it will not print anything. Do not remove it or change it, even if it does not do anything, as you will need it for the next part."
   ]
  },
  {
   "cell_type": "code",
   "execution_count": 242,
   "metadata": {},
   "outputs": [],
   "source": [
    "def plot_seir(t,S,E,I,R,L=None):\n",
    "    \"\"\"\n",
    "    Input: t, S, E, I, R, L \n",
    "    (the L parameter is for the next question that introduces a lockdown, \n",
    "    for this part it will not do anything so do not change L=None)\n",
    "     \n",
    "    step1: create the figure and subplots with nrows=1 and and ncols=1.\n",
    "    step2: plot the susceptible, exposed, infected, recovered, and total population\n",
    "    step3: set x and y label and tick parameters\n",
    "    step4: add the corresponding names of each line using legend\n",
    "     \n",
    "    \"\"\"\n",
    "    #Write your code here\n",
    "    f, ax = plt.subplots(1, 1, figsize=(10, 4))\n",
    "    \n",
    "    ax.plot(t, S, color=\"b\", linewidth=2, label=\"Susceptible\")\n",
    "    ax.plot(t, E, color=\"c\", linewidth=2, label=\"Exposed\")\n",
    "    ax.plot(t, I, color=\"m\", linewidth=2, label=\"Infected\")\n",
    "    ax.plot(t, R, color=\"r\", linewidth=2, label=\"Recovered\")    \n",
    "    ax.plot(t, S+E+I+R, color=\"k\", linewidth=2, label=\"Population\", linestyle='dashed')\n",
    "    \n",
    "    ax.grid(b=True, which=\"major\")\n",
    "    ax.set_xlabel(\"Population\")\n",
    "    ax.set_ylabel(\"Days\")\n",
    "    \n",
    "    if L is not None: \n",
    "        plt.title(f\"Lockdown after {L} days\")\n",
    "        ax.axvline(x=L, color='r', label=\"Lockdown\", linestyle='dashed')\n",
    "    \n",
    "    plt.tight_layout(); legend = ax.legend()\n",
    "    plt.show()"
   ]
  },
  {
   "cell_type": "code",
   "execution_count": 22,
   "metadata": {},
   "outputs": [
    {
     "data": {
      "image/png": "[encoded data removed]",
      "text/plain": [
       "<Figure size 720x288 with 1 Axes>"
      ]
     },
     "metadata": {
      "needs_background": "light"
     },
     "output_type": "display_data"
    }
   ],
   "source": [
    "#calling plot_seir here\n",
    "plot_seir(t,S,E,I,R)"
   ]
  },
  {
   "cell_type": "markdown",
   "metadata": {},
   "source": [
    "## 2. Advanced Task: Lockdown\n"
   ]
  },
  {
   "cell_type": "markdown",
   "metadata": {},
   "source": [
    "In this task you will build upon the previous model and you will introduce a Lockdown policy.\n",
    "Until now, the model you defined was highly unrealistic as the R0-value was constant. If a government introduces a lockdown in the country then the basic reproductive number(R0) drops! Meaning that you have to adapt the parameters to change over time.  \n",
    "\n",
    "Your task is as follows:\n",
    "\n",
    "- Re-write the system of ODEs for SEIR in the function called deriv_seir_lockdown. The reason why you should define the function again, is that, this time, the $\\beta$ is time dependent. Other than that, the system of ODEs remains the same. \n",
    "\n",
    "- Next, in the function, named model_seir_lockdown(), define:\n",
    "\n",
    "    -the time dependent $R_0$ and $\\beta$ as mentioned in 1, 2 just below the bullet points.\n",
    "\n",
    "    -the initial conditions (one exposed, rest susceptible), \n",
    "\n",
    "    -the grid of time-points in days (150 days), \n",
    "\n",
    "    -the initial conditions vector and \n",
    "    \n",
    "    -finally solve the system of ODEs. \n",
    "\n",
    "\n",
    "\n",
    "\n",
    "1. Time dependent $R_0$:\n",
    "\n",
    "\n",
    "Say that the lockdown is introduced on day 30 after the first case of the disease in the country. In that case the $R_0$ drops to 0.9 the day of the lockdown. The value of $R_0$ before that day was 5.7\n",
    "\n",
    "2. Time dependent $\\beta$:\n",
    "\n",
    "Remember that the definition of beta is $\\beta$ = $R_0$* $\\gamma$. If $R_0$ is time dependent then $\\beta$ is also time dependent.     \n",
    "\n",
    "\n",
    "To plot your model, the plot_seir() function that was defined in question .c is used again, but now in the list of parameters is also the lockdown.\n"
   ]
  },
  {
   "cell_type": "code",
   "execution_count": 91,
   "metadata": {},
   "outputs": [],
   "source": [
    "def deriv_seir_lockdown(y, t, N, beta, gamma, delta):\n",
    "    \"\"\"\n",
    "    Input: y, time grid, N: total population, beta: infectious rate, gamma: recovery rate, delta: incubation period \n",
    "    Output: dSdt, dEdt,  dIdt, dRdt\n",
    "  \n",
    "    Transform the above system of ODEs in python considering this time: time dependent beta\n",
    "\n",
    "    \"\"\"\n",
    "    S, E, I, R = y\n",
    "    #implement the new SEIR equations here. The SEIR equations are the same as defined above \n",
    "    dSdt = -beta * I * (S / N)                 # Change in S population over time\n",
    "    dEdt = (beta * I * (S / N)) - (delta * E)  # Change in E population over time\n",
    "    dIdt = (delta * E) - (gamma * I)           # Change in I population over time\n",
    "    dRdt = gamma * I                           # Change in R population over time\n",
    "    \n",
    "    ##but now beta is time dependent!: beta(t)\n",
    "\n",
    "    return dSdt, dEdt, dIdt, dRdt"
   ]
  },
  {
   "cell_type": "code",
   "execution_count": 156,
   "metadata": {},
   "outputs": [],
   "source": [
    "def model_seir_lockdown(gamma, delta):\n",
    "    \"\"\"\n",
    "    Input: gamma, delta\n",
    "    Output: t,S,E,I,R,L\n",
    "\n",
    "\n",
    "    step1: define, in R_0(t), the time dependent R0\n",
    "    step2: define, in beta(t), the time dependent beta\n",
    "    step3: set initial conditions, one exposed, rest susceptible\n",
    "    step4: fill in the grid of time points (in days) (you should consider 150 days)\n",
    "    step5: fill in the initial conditions vector\n",
    "    step5: use odeint from scipy to solve the system ODEs\n",
    "\n",
    "    \"\"\"\n",
    "    L = 30 #day of lockdown\n",
    "    \n",
    "    def R_0(phase):\n",
    "        #write your code here for R_0(t)\n",
    "        if phase == 1:                      # R0 equals to 5.7 if the current day is before the lockdown day (L) and R0 equals to 0.9 if the current day is equal or after the lockdown day (L)\n",
    "            R_0 = 5.7\n",
    "        elif phase == 2:\n",
    "            R_0 = 0.9\n",
    "\n",
    "        return R_0\n",
    "\n",
    "    def beta(phase):\n",
    "        #write your code here for beta(t)\n",
    "        beta = R_0(phase) * gamma           # Remember beta = R0*gamma\n",
    "\n",
    "        return beta\n",
    "\n",
    "    E = 1                               # Exposed population at the beginning\n",
    "    y0 = (N - E), E, 0, 0               # Initial conditions, including the E population\n",
    "\n",
    "    #write your code here (after step3)\n",
    "    t = np.linspace(0, 149, 150)        # Grid of time points (in days)\n",
    "    \n",
    "    # My approach is to have a phase of normal life and another of lock down in the day L\n",
    "    # Phase of the infection\n",
    "    phase = 1\n",
    "    integral_1 = odeint(\n",
    "        deriv_seir, y0, np.linspace(0, L - 1, L) , args=(N, beta(phase),  gamma, delta)\n",
    "    )                                   # Solve differential equation for this phase\n",
    "\n",
    "    y1 = integral_1[29]\n",
    "    # Phase of the infection\n",
    "    phase = 2\n",
    "    integral_2 = odeint(\n",
    "        deriv_seir, y1, np.linspace(L, 149, 150 - L), args=(N, beta(phase),  gamma, delta)\n",
    "    )                                   # Solve differential equation for this phase\n",
    "    \n",
    "    S, E, I, R = np.concatenate((integral_1, integral_2)).T\n",
    "\n",
    "    return t, S, E, I, R, L"
   ]
  },
  {
   "cell_type": "code",
   "execution_count": 157,
   "metadata": {},
   "outputs": [],
   "source": [
    "N=1000\n",
    "D = 10\n",
    "gamma = 1.0/D\n",
    "delta = 1.0/5.0"
   ]
  },
  {
   "cell_type": "code",
   "execution_count": 158,
   "metadata": {},
   "outputs": [],
   "source": [
    "#calling the model_seir_lockdown function that you defined above and storing the results in t, S, E, I, R, L\n",
    "t, S, E, I, R, L = model_seir_lockdown(gamma,delta)"
   ]
  },
  {
   "cell_type": "code",
   "execution_count": 159,
   "metadata": {},
   "outputs": [
    {
     "name": "stdout",
     "output_type": "stream",
     "text": [
      "SEIR model with lockdown test\n",
      "The time grid is correct\n",
      "The susceptible population array is not correct\n",
      "The exposed population array is not correct\n",
      "The infected population array is not correct\n",
      "The recovered population array is not correct\n",
      "Correct day of lockdown\n"
     ]
    }
   ],
   "source": [
    "#If you complete the method, you can run the following line to check whether your functions are correct or not. \n",
    "check_model_seir_lockdown(t,S,E,I,R,L)"
   ]
  },
  {
   "cell_type": "code",
   "execution_count": 243,
   "metadata": {},
   "outputs": [
    {
     "data": {
      "image/png": "[encoded data removed]",
      "text/plain": [
       "<Figure size 720x288 with 1 Axes>"
      ]
     },
     "metadata": {
      "needs_background": "light"
     },
     "output_type": "display_data"
    }
   ],
   "source": [
    "#calling plot_seir() here\n",
    "plot_seir(t, S, E, I, R, L)"
   ]
  },
  {
   "cell_type": "markdown",
   "metadata": {},
   "source": [
    "## PART 2: DATA PRE-PROCESSING, PLOTTING AND DIMENSIONALITY REDUCTION\n",
    "\n",
    "## (Basic Tasks: 1-5)"
   ]
  },
  {
   "cell_type": "markdown",
   "metadata": {},
   "source": [
    "## *1.* Reading the file\n"
   ]
  },
  {
   "cell_type": "markdown",
   "metadata": {},
   "source": [
    "Read the \"adult.data\" dataset which is under the folder  named \"datasets\". \n",
    "You can read information about the dataset here: http://archive.ics.uci.edu/ml/datasets/Adult\n"
   ]
  },
  {
   "cell_type": "markdown",
   "metadata": {},
   "source": [
    "Attribute Information:\n",
    "\n",
    "- income: >50K, <=50K\n",
    "\n",
    "- age: continuous.\n",
    "\n",
    "- workclass: Private, Self-emp-not-inc, Self-emp-inc, Federal-gov, Local-gov, State-gov, Without-pay, Never-worked.\n",
    "\n",
    "- fnlwgt: continuous.\n",
    "\n",
    "- education: Bachelors, Some-college, 11th, HS-grad, Prof-school, Assoc-acdm, Assoc-voc, 9th, 7th-8th, 12th, Masters, 1st-4th, 10th, \n",
    "Doctorate, 5th-6th, Preschool.\n",
    "education-num: continuous.\n",
    "\n",
    "- education-num: continuous.\n",
    "\n",
    "- marital-status: Married-civ-spouse, Divorced, Never-married, Separated, Widowed, Married-spouse-absent, Married-AF-spouse.\n",
    "\n",
    "- occupation: Tech-support, Craft-repair, Other-service, Sales, Exec-managerial, Prof-specialty, Handlers-cleaners, Machine-op-inspct, Adm-clerical, Farming-fishing, Transport-moving, Priv-house-serv, Protective-serv, Armed-Forces.\n",
    "\n",
    "- relationship: Wife, Own-child, Husband, Not-in-family, Other-relative, Unmarried.\n",
    "\n",
    "- race: White, Asian-Pac-Islander, Amer-Indian-Eskimo, Other, Black.\n",
    "\n",
    "- sex: Female, Male.\n",
    "\n",
    "- capital-gain: continuous.\n",
    "\n",
    "- capital-loss: continuous.\n",
    "\n",
    "- hours-per-week: continuous.\n",
    "\n",
    "- native-country: United-States, Cambodia, England, Puerto-Rico, Canada, Germany, Outlying-US(Guam-USVI-etc), India, Japan, Greece, South, China, Cuba, Iran, Honduras, Philippines, Italy, Poland, Jamaica, Vietnam, Mexico, Portugal, Ireland, France, Dominican-Republic, Laos, Ecuador, Taiwan, Haiti, Columbia, Hungary, Guatemala, Nicaragua, Scotland, Thailand, Yugoslavia, El-Salvador, Trinadad&Tobago, Peru, Hong, Holand-Netherlands.\n"
   ]
  },
  {
   "cell_type": "code",
   "execution_count": 224,
   "metadata": {},
   "outputs": [],
   "source": [
    "data = pd.read_csv(\"datasets/adult.data\", header=None) "
   ]
  },
  {
   "cell_type": "code",
   "execution_count": 230,
   "metadata": {},
   "outputs": [
    {
     "data": {
      "text/html": [
       "<div>\n",
       "<style scoped>\n",
       "    .dataframe tbody tr th:only-of-type {\n",
       "        vertical-align: middle;\n",
       "    }\n",
       "\n",
       "    .dataframe tbody tr th {\n",
       "        vertical-align: top;\n",
       "    }\n",
       "\n",
       "    .dataframe thead th {\n",
       "        text-align: right;\n",
       "    }\n",
       "</style>\n",
       "<table border=\"1\" class=\"dataframe\">\n",
       "  <thead>\n",
       "    <tr style=\"text-align: right;\">\n",
       "      <th></th>\n",
       "      <th>age</th>\n",
       "      <th>workclass</th>\n",
       "      <th>fnlwgt</th>\n",
       "      <th>education</th>\n",
       "      <th>education-num</th>\n",
       "      <th>marital-status</th>\n",
       "      <th>occupation</th>\n",
       "      <th>relationship</th>\n",
       "      <th>race</th>\n",
       "      <th>sex</th>\n",
       "      <th>capital-gain</th>\n",
       "      <th>capital-loss</th>\n",
       "      <th>hours-per-week</th>\n",
       "      <th>native-country</th>\n",
       "      <th>income</th>\n",
       "    </tr>\n",
       "  </thead>\n",
       "  <tbody>\n",
       "    <tr>\n",
       "      <th>0</th>\n",
       "      <td>39</td>\n",
       "      <td>State-gov</td>\n",
       "      <td>77516</td>\n",
       "      <td>Bachelors</td>\n",
       "      <td>13</td>\n",
       "      <td>Never-married</td>\n",
       "      <td>Adm-clerical</td>\n",
       "      <td>Not-in-family</td>\n",
       "      <td>White</td>\n",
       "      <td>Male</td>\n",
       "      <td>2174</td>\n",
       "      <td>0</td>\n",
       "      <td>40</td>\n",
       "      <td>United-States</td>\n",
       "      <td>0</td>\n",
       "    </tr>\n",
       "    <tr>\n",
       "      <th>1</th>\n",
       "      <td>50</td>\n",
       "      <td>Self-emp-not-inc</td>\n",
       "      <td>83311</td>\n",
       "      <td>Bachelors</td>\n",
       "      <td>13</td>\n",
       "      <td>Married-civ-spouse</td>\n",
       "      <td>Exec-managerial</td>\n",
       "      <td>Husband</td>\n",
       "      <td>White</td>\n",
       "      <td>Male</td>\n",
       "      <td>0</td>\n",
       "      <td>0</td>\n",
       "      <td>13</td>\n",
       "      <td>United-States</td>\n",
       "      <td>0</td>\n",
       "    </tr>\n",
       "    <tr>\n",
       "      <th>2</th>\n",
       "      <td>38</td>\n",
       "      <td>Private</td>\n",
       "      <td>215646</td>\n",
       "      <td>HS-grad</td>\n",
       "      <td>9</td>\n",
       "      <td>Divorced</td>\n",
       "      <td>Handlers-cleaners</td>\n",
       "      <td>Not-in-family</td>\n",
       "      <td>White</td>\n",
       "      <td>Male</td>\n",
       "      <td>0</td>\n",
       "      <td>0</td>\n",
       "      <td>40</td>\n",
       "      <td>United-States</td>\n",
       "      <td>0</td>\n",
       "    </tr>\n",
       "    <tr>\n",
       "      <th>3</th>\n",
       "      <td>53</td>\n",
       "      <td>Private</td>\n",
       "      <td>234721</td>\n",
       "      <td>11th</td>\n",
       "      <td>7</td>\n",
       "      <td>Married-civ-spouse</td>\n",
       "      <td>Handlers-cleaners</td>\n",
       "      <td>Husband</td>\n",
       "      <td>Black</td>\n",
       "      <td>Male</td>\n",
       "      <td>0</td>\n",
       "      <td>0</td>\n",
       "      <td>40</td>\n",
       "      <td>United-States</td>\n",
       "      <td>0</td>\n",
       "    </tr>\n",
       "    <tr>\n",
       "      <th>4</th>\n",
       "      <td>28</td>\n",
       "      <td>Private</td>\n",
       "      <td>338409</td>\n",
       "      <td>Bachelors</td>\n",
       "      <td>13</td>\n",
       "      <td>Married-civ-spouse</td>\n",
       "      <td>Prof-specialty</td>\n",
       "      <td>Wife</td>\n",
       "      <td>Black</td>\n",
       "      <td>Female</td>\n",
       "      <td>0</td>\n",
       "      <td>0</td>\n",
       "      <td>40</td>\n",
       "      <td>Cuba</td>\n",
       "      <td>0</td>\n",
       "    </tr>\n",
       "    <tr>\n",
       "      <th>5</th>\n",
       "      <td>37</td>\n",
       "      <td>Private</td>\n",
       "      <td>284582</td>\n",
       "      <td>Masters</td>\n",
       "      <td>14</td>\n",
       "      <td>Married-civ-spouse</td>\n",
       "      <td>Exec-managerial</td>\n",
       "      <td>Wife</td>\n",
       "      <td>White</td>\n",
       "      <td>Female</td>\n",
       "      <td>0</td>\n",
       "      <td>0</td>\n",
       "      <td>40</td>\n",
       "      <td>United-States</td>\n",
       "      <td>0</td>\n",
       "    </tr>\n",
       "    <tr>\n",
       "      <th>6</th>\n",
       "      <td>49</td>\n",
       "      <td>Private</td>\n",
       "      <td>160187</td>\n",
       "      <td>9th</td>\n",
       "      <td>5</td>\n",
       "      <td>Married-spouse-absent</td>\n",
       "      <td>Other-service</td>\n",
       "      <td>Not-in-family</td>\n",
       "      <td>Black</td>\n",
       "      <td>Female</td>\n",
       "      <td>0</td>\n",
       "      <td>0</td>\n",
       "      <td>16</td>\n",
       "      <td>Jamaica</td>\n",
       "      <td>0</td>\n",
       "    </tr>\n",
       "    <tr>\n",
       "      <th>7</th>\n",
       "      <td>52</td>\n",
       "      <td>Self-emp-not-inc</td>\n",
       "      <td>209642</td>\n",
       "      <td>HS-grad</td>\n",
       "      <td>9</td>\n",
       "      <td>Married-civ-spouse</td>\n",
       "      <td>Exec-managerial</td>\n",
       "      <td>Husband</td>\n",
       "      <td>White</td>\n",
       "      <td>Male</td>\n",
       "      <td>0</td>\n",
       "      <td>0</td>\n",
       "      <td>45</td>\n",
       "      <td>United-States</td>\n",
       "      <td>1</td>\n",
       "    </tr>\n",
       "    <tr>\n",
       "      <th>8</th>\n",
       "      <td>31</td>\n",
       "      <td>Private</td>\n",
       "      <td>45781</td>\n",
       "      <td>Masters</td>\n",
       "      <td>14</td>\n",
       "      <td>Never-married</td>\n",
       "      <td>Prof-specialty</td>\n",
       "      <td>Not-in-family</td>\n",
       "      <td>White</td>\n",
       "      <td>Female</td>\n",
       "      <td>14084</td>\n",
       "      <td>0</td>\n",
       "      <td>50</td>\n",
       "      <td>United-States</td>\n",
       "      <td>1</td>\n",
       "    </tr>\n",
       "    <tr>\n",
       "      <th>9</th>\n",
       "      <td>42</td>\n",
       "      <td>Private</td>\n",
       "      <td>159449</td>\n",
       "      <td>Bachelors</td>\n",
       "      <td>13</td>\n",
       "      <td>Married-civ-spouse</td>\n",
       "      <td>Exec-managerial</td>\n",
       "      <td>Husband</td>\n",
       "      <td>White</td>\n",
       "      <td>Male</td>\n",
       "      <td>5178</td>\n",
       "      <td>0</td>\n",
       "      <td>40</td>\n",
       "      <td>United-States</td>\n",
       "      <td>1</td>\n",
       "    </tr>\n",
       "  </tbody>\n",
       "</table>\n",
       "</div>"
      ],
      "text/plain": [
       "   age          workclass  fnlwgt   education  education-num  \\\n",
       "0   39          State-gov   77516   Bachelors             13   \n",
       "1   50   Self-emp-not-inc   83311   Bachelors             13   \n",
       "2   38            Private  215646     HS-grad              9   \n",
       "3   53            Private  234721        11th              7   \n",
       "4   28            Private  338409   Bachelors             13   \n",
       "5   37            Private  284582     Masters             14   \n",
       "6   49            Private  160187         9th              5   \n",
       "7   52   Self-emp-not-inc  209642     HS-grad              9   \n",
       "8   31            Private   45781     Masters             14   \n",
       "9   42            Private  159449   Bachelors             13   \n",
       "\n",
       "           marital-status          occupation    relationship    race  \\\n",
       "0           Never-married        Adm-clerical   Not-in-family   White   \n",
       "1      Married-civ-spouse     Exec-managerial         Husband   White   \n",
       "2                Divorced   Handlers-cleaners   Not-in-family   White   \n",
       "3      Married-civ-spouse   Handlers-cleaners         Husband   Black   \n",
       "4      Married-civ-spouse      Prof-specialty            Wife   Black   \n",
       "5      Married-civ-spouse     Exec-managerial            Wife   White   \n",
       "6   Married-spouse-absent       Other-service   Not-in-family   Black   \n",
       "7      Married-civ-spouse     Exec-managerial         Husband   White   \n",
       "8           Never-married      Prof-specialty   Not-in-family   White   \n",
       "9      Married-civ-spouse     Exec-managerial         Husband   White   \n",
       "\n",
       "       sex  capital-gain  capital-loss  hours-per-week  native-country  income  \n",
       "0     Male          2174             0              40   United-States       0  \n",
       "1     Male             0             0              13   United-States       0  \n",
       "2     Male             0             0              40   United-States       0  \n",
       "3     Male             0             0              40   United-States       0  \n",
       "4   Female             0             0              40            Cuba       0  \n",
       "5   Female             0             0              40   United-States       0  \n",
       "6   Female             0             0              16         Jamaica       0  \n",
       "7     Male             0             0              45   United-States       1  \n",
       "8   Female         14084             0              50   United-States       1  \n",
       "9     Male          5178             0              40   United-States       1  "
      ]
     },
     "execution_count": 230,
     "metadata": {},
     "output_type": "execute_result"
    }
   ],
   "source": [
    "data.head(10)"
   ]
  },
  {
   "cell_type": "markdown",
   "metadata": {},
   "source": [
    "\n",
    "\n",
    "In the function named basic_preprocessing, that takes as input the dataframe called data, do the following: \n",
    "\n",
    "- Change the column names to their corresponding ones, as seen above in attribute information\n",
    "\n",
    "- Rename the class label (income) to ' <=50K': 0, ' >50K': 1\n",
    "\n"
   ]
  },
  {
   "cell_type": "code",
   "execution_count": 226,
   "metadata": {},
   "outputs": [],
   "source": [
    "def basic_preprocessing(data):\n",
    "    \"\"\"\n",
    "    Input: the dataset\n",
    "    Output: the dataset with the below changes, named data_renamed\n",
    "\n",
    "    step1: change the column names \n",
    "    step2: rename the class label\n",
    "    \"\"\"\n",
    "    #Write your code here\n",
    "    data_renamed = data.rename(columns={0: \"age\", 1: \"workclass\", 2: \"fnlwgt\", 3: \"education\", 4: \"education-num\", 5: \"marital-status\", 6: \"occupation\", 7: \"relationship\",\n",
    "                                        8: \"race\", 9: \"sex\", 10: \"capital-gain\", 11: \"capital-loss\", 12: \"hours-per-week\", 13: \"native-country\", 14: \"income\"})\n",
    "    data_renamed[\"income\"].replace([\" <=50K\", \" >50K\"], [0, 1], inplace=True)\n",
    "    \n",
    "    return data_renamed"
   ]
  },
  {
   "cell_type": "code",
   "execution_count": 227,
   "metadata": {
    "tags": []
   },
   "outputs": [],
   "source": [
    "#calling the function here:\n",
    "data = basic_preprocessing(data)"
   ]
  },
  {
   "cell_type": "code",
   "execution_count": 229,
   "metadata": {},
   "outputs": [
    {
     "data": {
      "text/html": [
       "<div>\n",
       "<style scoped>\n",
       "    .dataframe tbody tr th:only-of-type {\n",
       "        vertical-align: middle;\n",
       "    }\n",
       "\n",
       "    .dataframe tbody tr th {\n",
       "        vertical-align: top;\n",
       "    }\n",
       "\n",
       "    .dataframe thead th {\n",
       "        text-align: right;\n",
       "    }\n",
       "</style>\n",
       "<table border=\"1\" class=\"dataframe\">\n",
       "  <thead>\n",
       "    <tr style=\"text-align: right;\">\n",
       "      <th></th>\n",
       "      <th>age</th>\n",
       "      <th>workclass</th>\n",
       "      <th>fnlwgt</th>\n",
       "      <th>education</th>\n",
       "      <th>education-num</th>\n",
       "      <th>marital-status</th>\n",
       "      <th>occupation</th>\n",
       "      <th>relationship</th>\n",
       "      <th>race</th>\n",
       "      <th>sex</th>\n",
       "      <th>capital-gain</th>\n",
       "      <th>capital-loss</th>\n",
       "      <th>hours-per-week</th>\n",
       "      <th>native-country</th>\n",
       "      <th>income</th>\n",
       "    </tr>\n",
       "  </thead>\n",
       "  <tbody>\n",
       "    <tr>\n",
       "      <th>0</th>\n",
       "      <td>39</td>\n",
       "      <td>State-gov</td>\n",
       "      <td>77516</td>\n",
       "      <td>Bachelors</td>\n",
       "      <td>13</td>\n",
       "      <td>Never-married</td>\n",
       "      <td>Adm-clerical</td>\n",
       "      <td>Not-in-family</td>\n",
       "      <td>White</td>\n",
       "      <td>Male</td>\n",
       "      <td>2174</td>\n",
       "      <td>0</td>\n",
       "      <td>40</td>\n",
       "      <td>United-States</td>\n",
       "      <td>0</td>\n",
       "    </tr>\n",
       "    <tr>\n",
       "      <th>1</th>\n",
       "      <td>50</td>\n",
       "      <td>Self-emp-not-inc</td>\n",
       "      <td>83311</td>\n",
       "      <td>Bachelors</td>\n",
       "      <td>13</td>\n",
       "      <td>Married-civ-spouse</td>\n",
       "      <td>Exec-managerial</td>\n",
       "      <td>Husband</td>\n",
       "      <td>White</td>\n",
       "      <td>Male</td>\n",
       "      <td>0</td>\n",
       "      <td>0</td>\n",
       "      <td>13</td>\n",
       "      <td>United-States</td>\n",
       "      <td>0</td>\n",
       "    </tr>\n",
       "    <tr>\n",
       "      <th>2</th>\n",
       "      <td>38</td>\n",
       "      <td>Private</td>\n",
       "      <td>215646</td>\n",
       "      <td>HS-grad</td>\n",
       "      <td>9</td>\n",
       "      <td>Divorced</td>\n",
       "      <td>Handlers-cleaners</td>\n",
       "      <td>Not-in-family</td>\n",
       "      <td>White</td>\n",
       "      <td>Male</td>\n",
       "      <td>0</td>\n",
       "      <td>0</td>\n",
       "      <td>40</td>\n",
       "      <td>United-States</td>\n",
       "      <td>0</td>\n",
       "    </tr>\n",
       "    <tr>\n",
       "      <th>3</th>\n",
       "      <td>53</td>\n",
       "      <td>Private</td>\n",
       "      <td>234721</td>\n",
       "      <td>11th</td>\n",
       "      <td>7</td>\n",
       "      <td>Married-civ-spouse</td>\n",
       "      <td>Handlers-cleaners</td>\n",
       "      <td>Husband</td>\n",
       "      <td>Black</td>\n",
       "      <td>Male</td>\n",
       "      <td>0</td>\n",
       "      <td>0</td>\n",
       "      <td>40</td>\n",
       "      <td>United-States</td>\n",
       "      <td>0</td>\n",
       "    </tr>\n",
       "    <tr>\n",
       "      <th>4</th>\n",
       "      <td>28</td>\n",
       "      <td>Private</td>\n",
       "      <td>338409</td>\n",
       "      <td>Bachelors</td>\n",
       "      <td>13</td>\n",
       "      <td>Married-civ-spouse</td>\n",
       "      <td>Prof-specialty</td>\n",
       "      <td>Wife</td>\n",
       "      <td>Black</td>\n",
       "      <td>Female</td>\n",
       "      <td>0</td>\n",
       "      <td>0</td>\n",
       "      <td>40</td>\n",
       "      <td>Cuba</td>\n",
       "      <td>0</td>\n",
       "    </tr>\n",
       "    <tr>\n",
       "      <th>5</th>\n",
       "      <td>37</td>\n",
       "      <td>Private</td>\n",
       "      <td>284582</td>\n",
       "      <td>Masters</td>\n",
       "      <td>14</td>\n",
       "      <td>Married-civ-spouse</td>\n",
       "      <td>Exec-managerial</td>\n",
       "      <td>Wife</td>\n",
       "      <td>White</td>\n",
       "      <td>Female</td>\n",
       "      <td>0</td>\n",
       "      <td>0</td>\n",
       "      <td>40</td>\n",
       "      <td>United-States</td>\n",
       "      <td>0</td>\n",
       "    </tr>\n",
       "    <tr>\n",
       "      <th>6</th>\n",
       "      <td>49</td>\n",
       "      <td>Private</td>\n",
       "      <td>160187</td>\n",
       "      <td>9th</td>\n",
       "      <td>5</td>\n",
       "      <td>Married-spouse-absent</td>\n",
       "      <td>Other-service</td>\n",
       "      <td>Not-in-family</td>\n",
       "      <td>Black</td>\n",
       "      <td>Female</td>\n",
       "      <td>0</td>\n",
       "      <td>0</td>\n",
       "      <td>16</td>\n",
       "      <td>Jamaica</td>\n",
       "      <td>0</td>\n",
       "    </tr>\n",
       "    <tr>\n",
       "      <th>7</th>\n",
       "      <td>52</td>\n",
       "      <td>Self-emp-not-inc</td>\n",
       "      <td>209642</td>\n",
       "      <td>HS-grad</td>\n",
       "      <td>9</td>\n",
       "      <td>Married-civ-spouse</td>\n",
       "      <td>Exec-managerial</td>\n",
       "      <td>Husband</td>\n",
       "      <td>White</td>\n",
       "      <td>Male</td>\n",
       "      <td>0</td>\n",
       "      <td>0</td>\n",
       "      <td>45</td>\n",
       "      <td>United-States</td>\n",
       "      <td>1</td>\n",
       "    </tr>\n",
       "    <tr>\n",
       "      <th>8</th>\n",
       "      <td>31</td>\n",
       "      <td>Private</td>\n",
       "      <td>45781</td>\n",
       "      <td>Masters</td>\n",
       "      <td>14</td>\n",
       "      <td>Never-married</td>\n",
       "      <td>Prof-specialty</td>\n",
       "      <td>Not-in-family</td>\n",
       "      <td>White</td>\n",
       "      <td>Female</td>\n",
       "      <td>14084</td>\n",
       "      <td>0</td>\n",
       "      <td>50</td>\n",
       "      <td>United-States</td>\n",
       "      <td>1</td>\n",
       "    </tr>\n",
       "    <tr>\n",
       "      <th>9</th>\n",
       "      <td>42</td>\n",
       "      <td>Private</td>\n",
       "      <td>159449</td>\n",
       "      <td>Bachelors</td>\n",
       "      <td>13</td>\n",
       "      <td>Married-civ-spouse</td>\n",
       "      <td>Exec-managerial</td>\n",
       "      <td>Husband</td>\n",
       "      <td>White</td>\n",
       "      <td>Male</td>\n",
       "      <td>5178</td>\n",
       "      <td>0</td>\n",
       "      <td>40</td>\n",
       "      <td>United-States</td>\n",
       "      <td>1</td>\n",
       "    </tr>\n",
       "  </tbody>\n",
       "</table>\n",
       "</div>"
      ],
      "text/plain": [
       "   age          workclass  fnlwgt   education  education-num  \\\n",
       "0   39          State-gov   77516   Bachelors             13   \n",
       "1   50   Self-emp-not-inc   83311   Bachelors             13   \n",
       "2   38            Private  215646     HS-grad              9   \n",
       "3   53            Private  234721        11th              7   \n",
       "4   28            Private  338409   Bachelors             13   \n",
       "5   37            Private  284582     Masters             14   \n",
       "6   49            Private  160187         9th              5   \n",
       "7   52   Self-emp-not-inc  209642     HS-grad              9   \n",
       "8   31            Private   45781     Masters             14   \n",
       "9   42            Private  159449   Bachelors             13   \n",
       "\n",
       "           marital-status          occupation    relationship    race  \\\n",
       "0           Never-married        Adm-clerical   Not-in-family   White   \n",
       "1      Married-civ-spouse     Exec-managerial         Husband   White   \n",
       "2                Divorced   Handlers-cleaners   Not-in-family   White   \n",
       "3      Married-civ-spouse   Handlers-cleaners         Husband   Black   \n",
       "4      Married-civ-spouse      Prof-specialty            Wife   Black   \n",
       "5      Married-civ-spouse     Exec-managerial            Wife   White   \n",
       "6   Married-spouse-absent       Other-service   Not-in-family   Black   \n",
       "7      Married-civ-spouse     Exec-managerial         Husband   White   \n",
       "8           Never-married      Prof-specialty   Not-in-family   White   \n",
       "9      Married-civ-spouse     Exec-managerial         Husband   White   \n",
       "\n",
       "       sex  capital-gain  capital-loss  hours-per-week  native-country  income  \n",
       "0     Male          2174             0              40   United-States       0  \n",
       "1     Male             0             0              13   United-States       0  \n",
       "2     Male             0             0              40   United-States       0  \n",
       "3     Male             0             0              40   United-States       0  \n",
       "4   Female             0             0              40            Cuba       0  \n",
       "5   Female             0             0              40   United-States       0  \n",
       "6   Female             0             0              16         Jamaica       0  \n",
       "7     Male             0             0              45   United-States       1  \n",
       "8   Female         14084             0              50   United-States       1  \n",
       "9     Male          5178             0              40   United-States       1  "
      ]
     },
     "execution_count": 229,
     "metadata": {},
     "output_type": "execute_result"
    }
   ],
   "source": [
    "data.head(10)"
   ]
  },
  {
   "cell_type": "code",
   "execution_count": 231,
   "metadata": {
    "tags": []
   },
   "outputs": [
    {
     "name": "stdout",
     "output_type": "stream",
     "text": [
      "<class 'pandas.core.frame.DataFrame'>\n",
      "RangeIndex: 32561 entries, 0 to 32560\n",
      "Data columns (total 15 columns):\n",
      "age               32561 non-null int64\n",
      "workclass         32561 non-null object\n",
      "fnlwgt            32561 non-null int64\n",
      "education         32561 non-null object\n",
      "education-num     32561 non-null int64\n",
      "marital-status    32561 non-null object\n",
      "occupation        32561 non-null object\n",
      "relationship      32561 non-null object\n",
      "race              32561 non-null object\n",
      "sex               32561 non-null object\n",
      "capital-gain      32561 non-null int64\n",
      "capital-loss      32561 non-null int64\n",
      "hours-per-week    32561 non-null int64\n",
      "native-country    32561 non-null object\n",
      "income            32561 non-null int64\n",
      "dtypes: int64(7), object(8)\n",
      "memory usage: 2.7+ MB\n"
     ]
    }
   ],
   "source": [
    "#if you want to see information about the dataset:\n",
    "data.info()"
   ]
  },
  {
   "cell_type": "code",
   "execution_count": 232,
   "metadata": {},
   "outputs": [
    {
     "data": {
      "text/html": [
       "<div>\n",
       "<style scoped>\n",
       "    .dataframe tbody tr th:only-of-type {\n",
       "        vertical-align: middle;\n",
       "    }\n",
       "\n",
       "    .dataframe tbody tr th {\n",
       "        vertical-align: top;\n",
       "    }\n",
       "\n",
       "    .dataframe thead th {\n",
       "        text-align: right;\n",
       "    }\n",
       "</style>\n",
       "<table border=\"1\" class=\"dataframe\">\n",
       "  <thead>\n",
       "    <tr style=\"text-align: right;\">\n",
       "      <th></th>\n",
       "      <th>age</th>\n",
       "      <th>fnlwgt</th>\n",
       "      <th>education-num</th>\n",
       "      <th>capital-gain</th>\n",
       "      <th>capital-loss</th>\n",
       "      <th>hours-per-week</th>\n",
       "      <th>income</th>\n",
       "    </tr>\n",
       "  </thead>\n",
       "  <tbody>\n",
       "    <tr>\n",
       "      <th>count</th>\n",
       "      <td>32561.000000</td>\n",
       "      <td>3.256100e+04</td>\n",
       "      <td>32561.000000</td>\n",
       "      <td>32561.000000</td>\n",
       "      <td>32561.000000</td>\n",
       "      <td>32561.000000</td>\n",
       "      <td>32561.000000</td>\n",
       "    </tr>\n",
       "    <tr>\n",
       "      <th>mean</th>\n",
       "      <td>38.581647</td>\n",
       "      <td>1.897784e+05</td>\n",
       "      <td>10.080679</td>\n",
       "      <td>1077.648844</td>\n",
       "      <td>87.303830</td>\n",
       "      <td>40.437456</td>\n",
       "      <td>0.240810</td>\n",
       "    </tr>\n",
       "    <tr>\n",
       "      <th>std</th>\n",
       "      <td>13.640433</td>\n",
       "      <td>1.055500e+05</td>\n",
       "      <td>2.572720</td>\n",
       "      <td>7385.292085</td>\n",
       "      <td>402.960219</td>\n",
       "      <td>12.347429</td>\n",
       "      <td>0.427581</td>\n",
       "    </tr>\n",
       "    <tr>\n",
       "      <th>min</th>\n",
       "      <td>17.000000</td>\n",
       "      <td>1.228500e+04</td>\n",
       "      <td>1.000000</td>\n",
       "      <td>0.000000</td>\n",
       "      <td>0.000000</td>\n",
       "      <td>1.000000</td>\n",
       "      <td>0.000000</td>\n",
       "    </tr>\n",
       "    <tr>\n",
       "      <th>25%</th>\n",
       "      <td>28.000000</td>\n",
       "      <td>1.178270e+05</td>\n",
       "      <td>9.000000</td>\n",
       "      <td>0.000000</td>\n",
       "      <td>0.000000</td>\n",
       "      <td>40.000000</td>\n",
       "      <td>0.000000</td>\n",
       "    </tr>\n",
       "    <tr>\n",
       "      <th>50%</th>\n",
       "      <td>37.000000</td>\n",
       "      <td>1.783560e+05</td>\n",
       "      <td>10.000000</td>\n",
       "      <td>0.000000</td>\n",
       "      <td>0.000000</td>\n",
       "      <td>40.000000</td>\n",
       "      <td>0.000000</td>\n",
       "    </tr>\n",
       "    <tr>\n",
       "      <th>75%</th>\n",
       "      <td>48.000000</td>\n",
       "      <td>2.370510e+05</td>\n",
       "      <td>12.000000</td>\n",
       "      <td>0.000000</td>\n",
       "      <td>0.000000</td>\n",
       "      <td>45.000000</td>\n",
       "      <td>0.000000</td>\n",
       "    </tr>\n",
       "    <tr>\n",
       "      <th>max</th>\n",
       "      <td>90.000000</td>\n",
       "      <td>1.484705e+06</td>\n",
       "      <td>16.000000</td>\n",
       "      <td>99999.000000</td>\n",
       "      <td>4356.000000</td>\n",
       "      <td>99.000000</td>\n",
       "      <td>1.000000</td>\n",
       "    </tr>\n",
       "  </tbody>\n",
       "</table>\n",
       "</div>"
      ],
      "text/plain": [
       "                age        fnlwgt  education-num  capital-gain  capital-loss  \\\n",
       "count  32561.000000  3.256100e+04   32561.000000  32561.000000  32561.000000   \n",
       "mean      38.581647  1.897784e+05      10.080679   1077.648844     87.303830   \n",
       "std       13.640433  1.055500e+05       2.572720   7385.292085    402.960219   \n",
       "min       17.000000  1.228500e+04       1.000000      0.000000      0.000000   \n",
       "25%       28.000000  1.178270e+05       9.000000      0.000000      0.000000   \n",
       "50%       37.000000  1.783560e+05      10.000000      0.000000      0.000000   \n",
       "75%       48.000000  2.370510e+05      12.000000      0.000000      0.000000   \n",
       "max       90.000000  1.484705e+06      16.000000  99999.000000   4356.000000   \n",
       "\n",
       "       hours-per-week        income  \n",
       "count    32561.000000  32561.000000  \n",
       "mean        40.437456      0.240810  \n",
       "std         12.347429      0.427581  \n",
       "min          1.000000      0.000000  \n",
       "25%         40.000000      0.000000  \n",
       "50%         40.000000      0.000000  \n",
       "75%         45.000000      0.000000  \n",
       "max         99.000000      1.000000  "
      ]
     },
     "execution_count": 232,
     "metadata": {},
     "output_type": "execute_result"
    }
   ],
   "source": [
    "#if you want to see information about the dataset:\n",
    "data.describe()"
   ]
  },
  {
   "cell_type": "markdown",
   "metadata": {},
   "source": [
    "## *2.* Missing values"
   ]
  },
  {
   "cell_type": "markdown",
   "metadata": {},
   "source": [
    " \n",
    "Note: Missing values in the file are represented as “ ?”. Note that there is a space before the ?.\n",
    "\n",
    "a. In the function named missing_values_and_plotting do the following:\n",
    "- Check how many missing values exist per attribute in the dataframe. Store the result in a pd.Series called missing_values_count. \n",
    "- Plot the missing_values_count as a barplot (you can use kind=”barh”). The names of the features should appear in the plot.\n"
   ]
  },
  {
   "cell_type": "code",
   "execution_count": null,
   "metadata": {},
   "outputs": [],
   "source": [
    "def missing_values_and_plotting(data):\n",
    "    \"\"\"\n",
    "    input: the adult dataset that you preprocessed in question 1\n",
    "    output: the series that has the counts of missing values per attribute, named missing_values_count\n",
    "\n",
    "    step1: store the number of missing values per attribure, in the series called missing_values_count\n",
    "    step2: plot the missing values series as a barplot. You can use pandas to plot the series. \n",
    "\n",
    "    \"\"\"\n",
    "    #Write your code here\n",
    "\n",
    "\n",
    "\n",
    "\n",
    "    \n",
    "    return missing_values_count"
   ]
  },
  {
   "cell_type": "code",
   "execution_count": null,
   "metadata": {
    "tags": []
   },
   "outputs": [],
   "source": [
    "#calling the function\n",
    "missing_values_count = missing_values_and_plotting(data)"
   ]
  },
  {
   "cell_type": "code",
   "execution_count": null,
   "metadata": {},
   "outputs": [],
   "source": [
    "missing_values_count"
   ]
  },
  {
   "cell_type": "code",
   "execution_count": null,
   "metadata": {},
   "outputs": [],
   "source": [
    "#If you complete the method, you can run the following line to check whether the output of the missing_values_count is correct or not. \n",
    "check_2a(missing_values_count)"
   ]
  },
  {
   "cell_type": "markdown",
   "metadata": {},
   "source": [
    "b. In the function named drop_missing_values, do the following:\n",
    "- Replace the missing values(\" ?\") with np.nan. \n",
    "- Drop the np.nan values.  \n"
   ]
  },
  {
   "cell_type": "code",
   "execution_count": null,
   "metadata": {},
   "outputs": [],
   "source": [
    "def drop_missing_values(data):\n",
    "    \"\"\"\n",
    "    Input: the dataset\n",
    "    Outplut: the dataframe with the dropped values\n",
    "\n",
    "    step1: replace the ' ?' with np.nan\n",
    "    step2: drop the nan values and store the result in data_dropped\n",
    "    \n",
    "    \"\"\"\n",
    "    #Write your code here\n",
    "\n",
    "    \n",
    "\n",
    "\n",
    "\n",
    "    \n",
    "    return data_dropped"
   ]
  },
  {
   "cell_type": "code",
   "execution_count": null,
   "metadata": {},
   "outputs": [],
   "source": [
    "#calling the drop_missing_values() here\n",
    "data_dropped = drop_missing_values(data)"
   ]
  },
  {
   "cell_type": "code",
   "execution_count": null,
   "metadata": {},
   "outputs": [],
   "source": [
    "#Make sure that the rows that have missing values are deleted.\n",
    "data_dropped"
   ]
  },
  {
   "cell_type": "code",
   "execution_count": null,
   "metadata": {},
   "outputs": [],
   "source": [
    "#If you complete the method, you can run the following line to check whether the number of the rows of data_dropped is correct or not.\n",
    "#in the number of rows pass the number of rows the data_dropped has. \n",
    "number_of_rows = None #change None to the number of rows data_dropped has. \n",
    "check_2b(number_of_rows)"
   ]
  },
  {
   "cell_type": "markdown",
   "metadata": {},
   "source": [
    "## *3.* Plotting\n"
   ]
  },
  {
   "cell_type": "markdown",
   "metadata": {},
   "source": [
    "a.\tIn the function named plot_a do the following:\n",
    "- Store in a pd.Series(), called unique_values_of_class, the count of unique values of the class label(how many people have income >50K and <=50K?).\n",
    "- Then plot a barplot of the class label. You can use pandas to plot. \n"
   ]
  },
  {
   "cell_type": "code",
   "execution_count": null,
   "metadata": {},
   "outputs": [],
   "source": [
    "def plot_a(data):\n",
    "    \"\"\"\n",
    "    Input: the dataframe with the dropped values from question 2c.\n",
    "    Output: a pd.Series(), called unique_values_of_class, with the count of unique values for the class label (income).\n",
    "\n",
    "\n",
    "    step1: find the count of unique values for the class label. You can use value_counts().\n",
    "    step2: plot a barplot of the unique_values_of_class using pandas.\n",
    "    \"\"\"\n",
    "\n",
    "    #Write your code here\n",
    "\n",
    "\n",
    "\n",
    "\n",
    "\n",
    "\n",
    "\n",
    "    return unique_values_of_class"
   ]
  },
  {
   "cell_type": "code",
   "execution_count": null,
   "metadata": {
    "tags": []
   },
   "outputs": [],
   "source": [
    "#calling plot_a()\n",
    "unique_values_of_class = plot_a(data_dropped)"
   ]
  },
  {
   "cell_type": "code",
   "execution_count": null,
   "metadata": {},
   "outputs": [],
   "source": [
    "unique_values_of_class "
   ]
  },
  {
   "cell_type": "code",
   "execution_count": null,
   "metadata": {},
   "outputs": [],
   "source": [
    "#If you complete the method, you can run the following line to check whether the output of the unique_values_of_class is correct or not. \n",
    "check_3a(unique_values_of_class)"
   ]
  },
  {
   "cell_type": "markdown",
   "metadata": {},
   "source": [
    "b.\tIn the function named plot_b do the following:\n",
    "- Store in a dataframe named sex_by_class, the respective counts of class labels by sex. (How many women/men have a class label of 0? How many women/men have a class label of 1?)\n",
    "- Examine the attribute sex by plotting a barplot in relation to the income. You can use pandas again. \n"
   ]
  },
  {
   "cell_type": "code",
   "execution_count": null,
   "metadata": {},
   "outputs": [],
   "source": [
    "def plot_b(data):\n",
    "    \"\"\"\n",
    "    Input: the dataset with the dropped missing values.\n",
    "    Output: the dataframe that groups the input data by sex and counts the number of the two class labels per sex. \n",
    "\n",
    "\n",
    "    step1: store in a dataframe named sex_by_class, a dataframe with the respective counts of class labels by sex. \n",
    "    step2: Plot a barplot for the sex_by_class. You can use pandas to plot it.\n",
    "\n",
    "    \"\"\"\n",
    "    #Write your code here\n",
    "\n",
    "\n",
    "\n",
    "\n",
    "\n",
    "\n",
    "\n",
    "    return sex_by_class"
   ]
  },
  {
   "cell_type": "code",
   "execution_count": null,
   "metadata": {},
   "outputs": [],
   "source": [
    "#calling the function:\n",
    "sex_by_class = plot_b(data_dropped)"
   ]
  },
  {
   "cell_type": "code",
   "execution_count": null,
   "metadata": {},
   "outputs": [],
   "source": [
    "sex_by_class"
   ]
  },
  {
   "cell_type": "code",
   "execution_count": null,
   "metadata": {},
   "outputs": [],
   "source": [
    "#If you complete the method, you can run the following lines to check whether the output values of the sex_by_class dataframe is correct or not. \n",
    "female_0 = None #change None to write here how many females have a class label of 0 (income<=50K).\n",
    "female_1 = None #change None to write here how many females have a class label of 1 (income>50K).\n",
    "male_0 = None #change None to write here how many males have a class label of 0 (income<=50K).\n",
    "male_1 = None #change None to write here how many males have a class label of 1 (income>50K).\n",
    "check_3b(female_0, female_1, male_0, male_1)"
   ]
  },
  {
   "cell_type": "markdown",
   "metadata": {},
   "source": [
    "c.\tIn the function named plot_c do the following:\n",
    "- Divide the age column into the following age groups: 0-19, 20-29, 30-39, 40-49, 50-59, 60-69, 70-79, 80-100 using the cut function from pandas. The new column should be called age_bins.\n",
    "- Plot a bar chart for the attribute age_bins, in relation to the class label (income).\n",
    "- Return the dataframe that has all the original features plus the new one that you created called \"age_bins\".\n"
   ]
  },
  {
   "cell_type": "code",
   "execution_count": null,
   "metadata": {},
   "outputs": [],
   "source": [
    "def plot_c(data):\n",
    "    \"\"\"\n",
    "    input: the dataset with the dropped missing values\n",
    "    output: the new dataframe the has all the of data_dropped plus the \"age_bins\" column\n",
    "\n",
    "    step1: Create a new column in the input dataframe called \"age_bins\" and use pd.cut() to divide the age column into the above mentioned age groups. \n",
    "    step2: Store in a dataframe named age_by_class, a dataframe with the count of class labels by age_bins. \n",
    "    step3: Create a barplot for age_by_class\n",
    "\n",
    "    \"\"\"\n",
    "    #Write your code here\n",
    "\n",
    "\n",
    "\n",
    "\n",
    "\n",
    "    return data"
   ]
  },
  {
   "cell_type": "code",
   "execution_count": null,
   "metadata": {},
   "outputs": [],
   "source": [
    "#calling the function here:\n",
    "age_bins_df = plot_c(data_dropped)"
   ]
  },
  {
   "cell_type": "code",
   "execution_count": null,
   "metadata": {},
   "outputs": [],
   "source": [
    "age_bins_df"
   ]
  },
  {
   "cell_type": "markdown",
   "metadata": {},
   "source": [
    "d.\tIn the function named plot_c do the following:\n",
    "- Create a sample of the dataset with only 1500 rows, using random_state=8 with *no replacement* and store it into a new dataframe called *data_sampled*.\n",
    "- Make a pairplot of all the numerical values of the sampled dataset and pass the following attributes into the pairplot function: diag_kind='hist' and hue='income'. Use seaborn!\n"
   ]
  },
  {
   "cell_type": "code",
   "execution_count": null,
   "metadata": {},
   "outputs": [],
   "source": [
    "def plot_d(data):\n",
    "    \"\"\"\n",
    "    input: the dataset with the dropped missing values\n",
    "    output: the sampled dataset called data_sampled\n",
    "\n",
    "\n",
    "    step1: create a sample of the dataset with only 1500 rows, using random_state=8 with no replacement and store it into a new dataframe called data_sampled\n",
    "    step2: make a pairplot, using seaborn, of all the numerical values of the sampled dataset and pass the following attributes into the pairplot function: diag_kind='hist' and hue='income'\n",
    "\n",
    "    \"\"\"\n",
    "    #Write your code here\n",
    "\n",
    "\n",
    "\n",
    "\n",
    "\n",
    "    \n",
    "\n",
    "    return data_sampled"
   ]
  },
  {
   "cell_type": "code",
   "execution_count": null,
   "metadata": {},
   "outputs": [],
   "source": [
    "#calling the function here:\n",
    "data_sampled = plot_d(data_dropped)"
   ]
  },
  {
   "cell_type": "code",
   "execution_count": null,
   "metadata": {},
   "outputs": [],
   "source": [
    "data_sampled"
   ]
  },
  {
   "cell_type": "markdown",
   "metadata": {},
   "source": [
    "## *4.* Standardization\n"
   ]
  },
  {
   "cell_type": "markdown",
   "metadata": {},
   "source": [
    "In the function named standardize_it:\n",
    "\n",
    "- Standardize only the numerical features of the sampled dataframe. You can use the StandardScaler from sklearn.\n",
    "- Store in a variable called y the column of the class label of the sampled dataframe.\n",
    "- Transform the standardized numpy matrix returned by StandardScaler into a dataframe, with column names their corresponding names."
   ]
  },
  {
   "cell_type": "code",
   "execution_count": null,
   "metadata": {},
   "outputs": [],
   "source": [
    "def standardize_it(data):\n",
    "    \"\"\"\n",
    "    Input: the sampled_dataframe.\n",
    "    Output: the standardized dataframe called data_standardized and the class label of the sampled dataframe called y. \n",
    "\n",
    "    step1: extract only the numerical features from the sampled dataframe as well as the class label.\n",
    "    step2: use StandardScaler to fit_transform the dataframe with the numerical features.\n",
    "    step3: transform the standardized numpy matrix returned by StandardScaler into a dataframe.\n",
    "    step4: rename the columns of the dataframe with their corresponding names.\n",
    "\n",
    "    \"\"\"\n",
    "    #Write your code here\n",
    "\n",
    "\n",
    "\n",
    "\n",
    "\n",
    "\n",
    "    return data_standardized, y"
   ]
  },
  {
   "cell_type": "code",
   "execution_count": null,
   "metadata": {},
   "outputs": [],
   "source": [
    "#calling standardize_it() here\n",
    "data_standardized, y = standardize_it(data_sampled)"
   ]
  },
  {
   "cell_type": "code",
   "execution_count": null,
   "metadata": {},
   "outputs": [],
   "source": [
    "data_standardized"
   ]
  },
  {
   "cell_type": "code",
   "execution_count": null,
   "metadata": {},
   "outputs": [],
   "source": [
    "y"
   ]
  },
  {
   "cell_type": "markdown",
   "metadata": {},
   "source": [
    "## *5.* Dimensionality Reduction\n"
   ]
  },
  {
   "cell_type": "markdown",
   "metadata": {},
   "source": [
    "a.\tIn the function named pca_plotting do the following:\n",
    "- Perform PCA(with random_state=8) using 2 principal components on the standardized dataset. Use the sklearn library.\n",
    "- Store the explained variance ratio in an attribute called explained_variance_ratio.\n",
    "- Store in a dataframe called df_principal_components, a dataframe that has as rows the pca components and as columns the sampled dataframe's columns.\n",
    "- Plot the two principal components with colors respective to the class label.\n"
   ]
  },
  {
   "cell_type": "code",
   "execution_count": null,
   "metadata": {},
   "outputs": [],
   "source": [
    "def pca_plotting(data):\n",
    "    \"\"\"\n",
    "    Input: the standardized dataframe\n",
    "    Output: the principal components dataframe, the explained_variance_ratio\n",
    "\n",
    "    step1: perform pca with 2 principal components and random_state=8\n",
    "    step2: store the explained variance ratio in an attribute called explained_variance_ratio\n",
    "    step3: store in a dataframe called df_principal_components, a dataframe that has as rows the pca components and as columns names the sampled dataframe's columns\n",
    "    step4: plot the principal components using a scatterplot and colors respective to the class label\n",
    "\n",
    "    \"\"\"\n",
    "    #Write your code here\n",
    "\n",
    "\n",
    "\n",
    "\n",
    "\n",
    "\n",
    "    \n",
    "    return df_principal_components, explained_variance_ratio"
   ]
  },
  {
   "cell_type": "code",
   "execution_count": null,
   "metadata": {},
   "outputs": [],
   "source": [
    "#calling the function here:\n",
    "df_principal_components, explained_variance_ratio = pca_plotting(data_standardized)"
   ]
  },
  {
   "cell_type": "code",
   "execution_count": null,
   "metadata": {},
   "outputs": [],
   "source": [
    "df_principal_components"
   ]
  },
  {
   "cell_type": "code",
   "execution_count": null,
   "metadata": {},
   "outputs": [],
   "source": [
    "explained_variance_ratio"
   ]
  },
  {
   "cell_type": "code",
   "execution_count": null,
   "metadata": {},
   "outputs": [],
   "source": [
    "#If you complete the method, you can run the following line to check whether the output of df_principal_components and explained_variance_ratio are correct or not. \n",
    "check_5a(df_principal_components, explained_variance_ratio)"
   ]
  },
  {
   "cell_type": "markdown",
   "metadata": {},
   "source": [
    "b. In the function called heatmap:\n",
    "- Use seaborn to plot the heatmap using the dataframe you returned in the previous question.\n",
    "\n",
    "In the attribure_contributing_the_most store the name of the attribure that contribures the most to the variance for the 2nd principal component.\n"
   ]
  },
  {
   "cell_type": "code",
   "execution_count": null,
   "metadata": {},
   "outputs": [],
   "source": [
    "def heatmap(data):\n",
    "    \"\"\"\n",
    "    Input: df_principal_components\n",
    "\n",
    "    Use seaborn to plot the heatmap\n",
    "\n",
    "    \"\"\"\n",
    "    #Write your code here\n",
    "    \n",
    "\n",
    "    \n",
    "\n"
   ]
  },
  {
   "cell_type": "code",
   "execution_count": null,
   "metadata": {},
   "outputs": [],
   "source": [
    "#calling the function here:\n",
    "heatmap(df_principal_components)"
   ]
  },
  {
   "cell_type": "code",
   "execution_count": null,
   "metadata": {},
   "outputs": [],
   "source": [
    "attribure_contributing_the_most = None #change None with the name of the attribute that contributes the most to the variance, use \"\""
   ]
  },
  {
   "cell_type": "code",
   "execution_count": null,
   "metadata": {},
   "outputs": [],
   "source": [
    "#If you complete the method, you can run the following line to check whether the attribure that you stored in attribure_contributing_the_most is the correct one. \n",
    "check_5b(attribure_contributing_the_most)"
   ]
  },
  {
   "cell_type": "markdown",
   "metadata": {},
   "source": [
    "## 6. Advanced task: Multi-Dimensional Scaling"
   ]
  },
  {
   "cell_type": "markdown",
   "metadata": {},
   "source": [
    "In this task:\n",
    "- perform  MDS on the data sampled with random state=8. Use sklearn.\n",
    "- Plot the results with colors respective to the class label."
   ]
  },
  {
   "cell_type": "code",
   "execution_count": null,
   "metadata": {},
   "outputs": [],
   "source": [
    "\"\"\"\n",
    "step1: fit the MDS with n_components=2, max_iter=100, random_State=8 and save it into the variable called X_2d\n",
    "step2: plot the results with colors respective to the class labels\n",
    "\"\"\""
   ]
  },
  {
   "cell_type": "markdown",
   "metadata": {},
   "source": [
    "# End of HW 1"
   ]
  }
 ],
 "metadata": {
  "kernelspec": {
   "display_name": "Python 3",
   "language": "python",
   "name": "python3"
  },
  "language_info": {
   "codemirror_mode": {
    "name": "ipython",
    "version": 3
   },
   "file_extension": ".py",
   "mimetype": "text/x-python",
   "name": "python",
   "nbconvert_exporter": "python",
   "pygments_lexer": "ipython3",
   "version": "3.7.3"
  }
 },
 "nbformat": 4,
 "nbformat_minor": 4
}
